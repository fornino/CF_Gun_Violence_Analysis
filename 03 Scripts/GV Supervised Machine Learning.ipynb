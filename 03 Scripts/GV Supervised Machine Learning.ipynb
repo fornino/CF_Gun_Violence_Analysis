{
 "cells": [
  {
   "cell_type": "markdown",
   "id": "6eaf0716",
   "metadata": {},
   "source": [
    "# Contents\n",
    "## 01. Import Libraries and Data\n",
    "## 02. Data Prep for Regression Analysis\n",
    "## 03. Regression Analysis\n",
    "    Train Set\n",
    "    Test Set\n",
    "    Results\n",
    "## 04. Export Scatterplots"
   ]
  },
  {
   "cell_type": "markdown",
   "id": "4c7b9b61",
   "metadata": {},
   "source": [
    "# 01. Import Libraries and Data"
   ]
  },
  {
   "cell_type": "code",
   "execution_count": 1,
   "id": "d5f37ebe",
   "metadata": {},
   "outputs": [],
   "source": [
    "import pandas as pd\n",
    "import numpy as np\n",
    "import seaborn as sns\n",
    "import matplotlib.pyplot as plt\n",
    "import matplotlib\n",
    "import os\n",
    "import sklearn\n",
    "from sklearn.model_selection import train_test_split\n",
    "from sklearn.linear_model import LinearRegression\n",
    "from sklearn.metrics import mean_squared_error, r2_score"
   ]
  },
  {
   "cell_type": "code",
   "execution_count": 2,
   "id": "07ccab9d",
   "metadata": {},
   "outputs": [],
   "source": [
    "%matplotlib inline"
   ]
  },
  {
   "cell_type": "code",
   "execution_count": 3,
   "id": "e5fd9d56",
   "metadata": {},
   "outputs": [],
   "source": [
    "pd.set_option('display.max_columns', None)"
   ]
  },
  {
   "cell_type": "code",
   "execution_count": 4,
   "id": "b030f6bd",
   "metadata": {},
   "outputs": [],
   "source": [
    "# Assign path to str\n",
    "path = r'/Users/allyfornino/Documents/11-2022 Gun Violence Analysis/'"
   ]
  },
  {
   "cell_type": "code",
   "execution_count": 5,
   "id": "66b732b8",
   "metadata": {},
   "outputs": [],
   "source": [
    "# Import clean data as df\n",
    "df = pd.read_csv(os.path.join(path, '02 Data', 'Prepared Data', 'clean_gun_violence_data.csv'))"
   ]
  },
  {
   "cell_type": "code",
   "execution_count": 6,
   "id": "5e670711",
   "metadata": {},
   "outputs": [
    {
     "data": {
      "text/html": [
       "<div>\n",
       "<style scoped>\n",
       "    .dataframe tbody tr th:only-of-type {\n",
       "        vertical-align: middle;\n",
       "    }\n",
       "\n",
       "    .dataframe tbody tr th {\n",
       "        vertical-align: top;\n",
       "    }\n",
       "\n",
       "    .dataframe thead th {\n",
       "        text-align: right;\n",
       "    }\n",
       "</style>\n",
       "<table border=\"1\" class=\"dataframe\">\n",
       "  <thead>\n",
       "    <tr style=\"text-align: right;\">\n",
       "      <th></th>\n",
       "      <th>Unnamed: 0</th>\n",
       "      <th>incident_id</th>\n",
       "      <th>date</th>\n",
       "      <th>state</th>\n",
       "      <th>city_or_county</th>\n",
       "      <th>latitude</th>\n",
       "      <th>longitude</th>\n",
       "      <th>no_injuries_or_deaths</th>\n",
       "      <th>injuries</th>\n",
       "      <th>n_injured</th>\n",
       "      <th>deaths</th>\n",
       "      <th>n_killed</th>\n",
       "      <th>n_guns_involved</th>\n",
       "      <th>stolen_gun_involved</th>\n",
       "      <th>n_participants</th>\n",
       "      <th>all_adults</th>\n",
       "      <th>adult_participant</th>\n",
       "      <th>teen_participant</th>\n",
       "      <th>child_participant</th>\n",
       "      <th>all_female_participants</th>\n",
       "      <th>all_male_participants</th>\n",
       "      <th>mixed_gender_participants</th>\n",
       "      <th>all_victims</th>\n",
       "      <th>all_suspects</th>\n",
       "      <th>suspects_and_victims</th>\n",
       "      <th>mass_shooting_flag</th>\n",
       "      <th>drive_by_flag</th>\n",
       "      <th>domestic_violence_flag</th>\n",
       "      <th>armed_robbery_flag</th>\n",
       "      <th>gang_involvement_flag</th>\n",
       "      <th>drug_involvement_flag</th>\n",
       "      <th>accidental_flag</th>\n",
       "      <th>self_inflicted_flag</th>\n",
       "    </tr>\n",
       "  </thead>\n",
       "  <tbody>\n",
       "    <tr>\n",
       "      <th>0</th>\n",
       "      <td>32</td>\n",
       "      <td>481229</td>\n",
       "      <td>2013-03-07</td>\n",
       "      <td>Mississippi</td>\n",
       "      <td>Jackson</td>\n",
       "      <td>32.2649</td>\n",
       "      <td>-90.2141</td>\n",
       "      <td>True</td>\n",
       "      <td>True</td>\n",
       "      <td>2</td>\n",
       "      <td>True</td>\n",
       "      <td>2</td>\n",
       "      <td>1.0</td>\n",
       "      <td>Unknown</td>\n",
       "      <td>4</td>\n",
       "      <td>True</td>\n",
       "      <td>True</td>\n",
       "      <td>True</td>\n",
       "      <td>True</td>\n",
       "      <td>True</td>\n",
       "      <td>True</td>\n",
       "      <td>True</td>\n",
       "      <td>True</td>\n",
       "      <td>True</td>\n",
       "      <td>True</td>\n",
       "      <td>True</td>\n",
       "      <td>True</td>\n",
       "      <td>True</td>\n",
       "      <td>True</td>\n",
       "      <td>True</td>\n",
       "      <td>True</td>\n",
       "      <td>True</td>\n",
       "      <td>True</td>\n",
       "    </tr>\n",
       "    <tr>\n",
       "      <th>1</th>\n",
       "      <td>56</td>\n",
       "      <td>485746</td>\n",
       "      <td>2013-04-22</td>\n",
       "      <td>Louisiana</td>\n",
       "      <td>Harvey</td>\n",
       "      <td>29.8736</td>\n",
       "      <td>-90.0568</td>\n",
       "      <td>True</td>\n",
       "      <td>True</td>\n",
       "      <td>5</td>\n",
       "      <td>True</td>\n",
       "      <td>0</td>\n",
       "      <td>3.0</td>\n",
       "      <td>Unknown</td>\n",
       "      <td>9</td>\n",
       "      <td>True</td>\n",
       "      <td>True</td>\n",
       "      <td>True</td>\n",
       "      <td>True</td>\n",
       "      <td>True</td>\n",
       "      <td>True</td>\n",
       "      <td>True</td>\n",
       "      <td>True</td>\n",
       "      <td>True</td>\n",
       "      <td>True</td>\n",
       "      <td>True</td>\n",
       "      <td>True</td>\n",
       "      <td>True</td>\n",
       "      <td>True</td>\n",
       "      <td>True</td>\n",
       "      <td>True</td>\n",
       "      <td>True</td>\n",
       "      <td>True</td>\n",
       "    </tr>\n",
       "    <tr>\n",
       "      <th>2</th>\n",
       "      <td>62</td>\n",
       "      <td>485979</td>\n",
       "      <td>2013-04-28</td>\n",
       "      <td>Tennessee</td>\n",
       "      <td>Jackson</td>\n",
       "      <td>35.6141</td>\n",
       "      <td>-88.8150</td>\n",
       "      <td>True</td>\n",
       "      <td>True</td>\n",
       "      <td>2</td>\n",
       "      <td>True</td>\n",
       "      <td>2</td>\n",
       "      <td>2.0</td>\n",
       "      <td>Unknown</td>\n",
       "      <td>6</td>\n",
       "      <td>True</td>\n",
       "      <td>True</td>\n",
       "      <td>True</td>\n",
       "      <td>True</td>\n",
       "      <td>True</td>\n",
       "      <td>True</td>\n",
       "      <td>True</td>\n",
       "      <td>True</td>\n",
       "      <td>True</td>\n",
       "      <td>True</td>\n",
       "      <td>True</td>\n",
       "      <td>True</td>\n",
       "      <td>True</td>\n",
       "      <td>True</td>\n",
       "      <td>True</td>\n",
       "      <td>True</td>\n",
       "      <td>True</td>\n",
       "      <td>True</td>\n",
       "    </tr>\n",
       "    <tr>\n",
       "      <th>3</th>\n",
       "      <td>78</td>\n",
       "      <td>873575</td>\n",
       "      <td>2013-05-18</td>\n",
       "      <td>New York</td>\n",
       "      <td>Jamaica</td>\n",
       "      <td>40.6730</td>\n",
       "      <td>-73.7881</td>\n",
       "      <td>True</td>\n",
       "      <td>True</td>\n",
       "      <td>0</td>\n",
       "      <td>True</td>\n",
       "      <td>1</td>\n",
       "      <td>1.0</td>\n",
       "      <td>Unknown</td>\n",
       "      <td>2</td>\n",
       "      <td>True</td>\n",
       "      <td>True</td>\n",
       "      <td>True</td>\n",
       "      <td>True</td>\n",
       "      <td>True</td>\n",
       "      <td>True</td>\n",
       "      <td>True</td>\n",
       "      <td>True</td>\n",
       "      <td>True</td>\n",
       "      <td>True</td>\n",
       "      <td>True</td>\n",
       "      <td>True</td>\n",
       "      <td>True</td>\n",
       "      <td>True</td>\n",
       "      <td>True</td>\n",
       "      <td>True</td>\n",
       "      <td>True</td>\n",
       "      <td>True</td>\n",
       "    </tr>\n",
       "    <tr>\n",
       "      <th>4</th>\n",
       "      <td>79</td>\n",
       "      <td>486611</td>\n",
       "      <td>2013-05-18</td>\n",
       "      <td>Virginia</td>\n",
       "      <td>Victoria</td>\n",
       "      <td>37.0177</td>\n",
       "      <td>-78.1562</td>\n",
       "      <td>True</td>\n",
       "      <td>True</td>\n",
       "      <td>4</td>\n",
       "      <td>True</td>\n",
       "      <td>0</td>\n",
       "      <td>1.0</td>\n",
       "      <td>Unknown</td>\n",
       "      <td>5</td>\n",
       "      <td>True</td>\n",
       "      <td>True</td>\n",
       "      <td>True</td>\n",
       "      <td>True</td>\n",
       "      <td>True</td>\n",
       "      <td>True</td>\n",
       "      <td>True</td>\n",
       "      <td>True</td>\n",
       "      <td>True</td>\n",
       "      <td>True</td>\n",
       "      <td>True</td>\n",
       "      <td>True</td>\n",
       "      <td>True</td>\n",
       "      <td>True</td>\n",
       "      <td>True</td>\n",
       "      <td>True</td>\n",
       "      <td>True</td>\n",
       "      <td>True</td>\n",
       "    </tr>\n",
       "  </tbody>\n",
       "</table>\n",
       "</div>"
      ],
      "text/plain": [
       "   Unnamed: 0  incident_id        date        state city_or_county  latitude  \\\n",
       "0          32       481229  2013-03-07  Mississippi        Jackson   32.2649   \n",
       "1          56       485746  2013-04-22    Louisiana         Harvey   29.8736   \n",
       "2          62       485979  2013-04-28    Tennessee        Jackson   35.6141   \n",
       "3          78       873575  2013-05-18     New York        Jamaica   40.6730   \n",
       "4          79       486611  2013-05-18     Virginia       Victoria   37.0177   \n",
       "\n",
       "   longitude  no_injuries_or_deaths  injuries  n_injured  deaths  n_killed  \\\n",
       "0   -90.2141                   True      True          2    True         2   \n",
       "1   -90.0568                   True      True          5    True         0   \n",
       "2   -88.8150                   True      True          2    True         2   \n",
       "3   -73.7881                   True      True          0    True         1   \n",
       "4   -78.1562                   True      True          4    True         0   \n",
       "\n",
       "   n_guns_involved stolen_gun_involved  n_participants  all_adults  \\\n",
       "0              1.0             Unknown               4        True   \n",
       "1              3.0             Unknown               9        True   \n",
       "2              2.0             Unknown               6        True   \n",
       "3              1.0             Unknown               2        True   \n",
       "4              1.0             Unknown               5        True   \n",
       "\n",
       "   adult_participant  teen_participant  child_participant  \\\n",
       "0               True              True               True   \n",
       "1               True              True               True   \n",
       "2               True              True               True   \n",
       "3               True              True               True   \n",
       "4               True              True               True   \n",
       "\n",
       "   all_female_participants  all_male_participants  mixed_gender_participants  \\\n",
       "0                     True                   True                       True   \n",
       "1                     True                   True                       True   \n",
       "2                     True                   True                       True   \n",
       "3                     True                   True                       True   \n",
       "4                     True                   True                       True   \n",
       "\n",
       "   all_victims  all_suspects  suspects_and_victims  mass_shooting_flag  \\\n",
       "0         True          True                  True                True   \n",
       "1         True          True                  True                True   \n",
       "2         True          True                  True                True   \n",
       "3         True          True                  True                True   \n",
       "4         True          True                  True                True   \n",
       "\n",
       "   drive_by_flag  domestic_violence_flag  armed_robbery_flag  \\\n",
       "0           True                    True                True   \n",
       "1           True                    True                True   \n",
       "2           True                    True                True   \n",
       "3           True                    True                True   \n",
       "4           True                    True                True   \n",
       "\n",
       "   gang_involvement_flag  drug_involvement_flag  accidental_flag  \\\n",
       "0                   True                   True             True   \n",
       "1                   True                   True             True   \n",
       "2                   True                   True             True   \n",
       "3                   True                   True             True   \n",
       "4                   True                   True             True   \n",
       "\n",
       "   self_inflicted_flag  \n",
       "0                 True  \n",
       "1                 True  \n",
       "2                 True  \n",
       "3                 True  \n",
       "4                 True  "
      ]
     },
     "execution_count": 6,
     "metadata": {},
     "output_type": "execute_result"
    }
   ],
   "source": [
    "df.head()"
   ]
  },
  {
   "cell_type": "code",
   "execution_count": 7,
   "id": "e6780647",
   "metadata": {},
   "outputs": [
    {
     "data": {
      "text/html": [
       "<div>\n",
       "<style scoped>\n",
       "    .dataframe tbody tr th:only-of-type {\n",
       "        vertical-align: middle;\n",
       "    }\n",
       "\n",
       "    .dataframe tbody tr th {\n",
       "        vertical-align: top;\n",
       "    }\n",
       "\n",
       "    .dataframe thead th {\n",
       "        text-align: right;\n",
       "    }\n",
       "</style>\n",
       "<table border=\"1\" class=\"dataframe\">\n",
       "  <thead>\n",
       "    <tr style=\"text-align: right;\">\n",
       "      <th></th>\n",
       "      <th>incident_id</th>\n",
       "      <th>date</th>\n",
       "      <th>state</th>\n",
       "      <th>city_or_county</th>\n",
       "      <th>latitude</th>\n",
       "      <th>longitude</th>\n",
       "      <th>no_injuries_or_deaths</th>\n",
       "      <th>injuries</th>\n",
       "      <th>n_injured</th>\n",
       "      <th>deaths</th>\n",
       "      <th>n_killed</th>\n",
       "      <th>n_guns_involved</th>\n",
       "      <th>stolen_gun_involved</th>\n",
       "      <th>n_participants</th>\n",
       "      <th>all_adults</th>\n",
       "      <th>adult_participant</th>\n",
       "      <th>teen_participant</th>\n",
       "      <th>child_participant</th>\n",
       "      <th>all_female_participants</th>\n",
       "      <th>all_male_participants</th>\n",
       "      <th>mixed_gender_participants</th>\n",
       "      <th>all_victims</th>\n",
       "      <th>all_suspects</th>\n",
       "      <th>suspects_and_victims</th>\n",
       "      <th>mass_shooting_flag</th>\n",
       "      <th>drive_by_flag</th>\n",
       "      <th>domestic_violence_flag</th>\n",
       "      <th>armed_robbery_flag</th>\n",
       "      <th>gang_involvement_flag</th>\n",
       "      <th>drug_involvement_flag</th>\n",
       "      <th>accidental_flag</th>\n",
       "      <th>self_inflicted_flag</th>\n",
       "    </tr>\n",
       "  </thead>\n",
       "  <tbody>\n",
       "    <tr>\n",
       "      <th>0</th>\n",
       "      <td>481229</td>\n",
       "      <td>2013-03-07</td>\n",
       "      <td>Mississippi</td>\n",
       "      <td>Jackson</td>\n",
       "      <td>32.2649</td>\n",
       "      <td>-90.2141</td>\n",
       "      <td>True</td>\n",
       "      <td>True</td>\n",
       "      <td>2</td>\n",
       "      <td>True</td>\n",
       "      <td>2</td>\n",
       "      <td>1.0</td>\n",
       "      <td>Unknown</td>\n",
       "      <td>4</td>\n",
       "      <td>True</td>\n",
       "      <td>True</td>\n",
       "      <td>True</td>\n",
       "      <td>True</td>\n",
       "      <td>True</td>\n",
       "      <td>True</td>\n",
       "      <td>True</td>\n",
       "      <td>True</td>\n",
       "      <td>True</td>\n",
       "      <td>True</td>\n",
       "      <td>True</td>\n",
       "      <td>True</td>\n",
       "      <td>True</td>\n",
       "      <td>True</td>\n",
       "      <td>True</td>\n",
       "      <td>True</td>\n",
       "      <td>True</td>\n",
       "      <td>True</td>\n",
       "    </tr>\n",
       "    <tr>\n",
       "      <th>1</th>\n",
       "      <td>485746</td>\n",
       "      <td>2013-04-22</td>\n",
       "      <td>Louisiana</td>\n",
       "      <td>Harvey</td>\n",
       "      <td>29.8736</td>\n",
       "      <td>-90.0568</td>\n",
       "      <td>True</td>\n",
       "      <td>True</td>\n",
       "      <td>5</td>\n",
       "      <td>True</td>\n",
       "      <td>0</td>\n",
       "      <td>3.0</td>\n",
       "      <td>Unknown</td>\n",
       "      <td>9</td>\n",
       "      <td>True</td>\n",
       "      <td>True</td>\n",
       "      <td>True</td>\n",
       "      <td>True</td>\n",
       "      <td>True</td>\n",
       "      <td>True</td>\n",
       "      <td>True</td>\n",
       "      <td>True</td>\n",
       "      <td>True</td>\n",
       "      <td>True</td>\n",
       "      <td>True</td>\n",
       "      <td>True</td>\n",
       "      <td>True</td>\n",
       "      <td>True</td>\n",
       "      <td>True</td>\n",
       "      <td>True</td>\n",
       "      <td>True</td>\n",
       "      <td>True</td>\n",
       "    </tr>\n",
       "    <tr>\n",
       "      <th>2</th>\n",
       "      <td>485979</td>\n",
       "      <td>2013-04-28</td>\n",
       "      <td>Tennessee</td>\n",
       "      <td>Jackson</td>\n",
       "      <td>35.6141</td>\n",
       "      <td>-88.8150</td>\n",
       "      <td>True</td>\n",
       "      <td>True</td>\n",
       "      <td>2</td>\n",
       "      <td>True</td>\n",
       "      <td>2</td>\n",
       "      <td>2.0</td>\n",
       "      <td>Unknown</td>\n",
       "      <td>6</td>\n",
       "      <td>True</td>\n",
       "      <td>True</td>\n",
       "      <td>True</td>\n",
       "      <td>True</td>\n",
       "      <td>True</td>\n",
       "      <td>True</td>\n",
       "      <td>True</td>\n",
       "      <td>True</td>\n",
       "      <td>True</td>\n",
       "      <td>True</td>\n",
       "      <td>True</td>\n",
       "      <td>True</td>\n",
       "      <td>True</td>\n",
       "      <td>True</td>\n",
       "      <td>True</td>\n",
       "      <td>True</td>\n",
       "      <td>True</td>\n",
       "      <td>True</td>\n",
       "    </tr>\n",
       "    <tr>\n",
       "      <th>3</th>\n",
       "      <td>873575</td>\n",
       "      <td>2013-05-18</td>\n",
       "      <td>New York</td>\n",
       "      <td>Jamaica</td>\n",
       "      <td>40.6730</td>\n",
       "      <td>-73.7881</td>\n",
       "      <td>True</td>\n",
       "      <td>True</td>\n",
       "      <td>0</td>\n",
       "      <td>True</td>\n",
       "      <td>1</td>\n",
       "      <td>1.0</td>\n",
       "      <td>Unknown</td>\n",
       "      <td>2</td>\n",
       "      <td>True</td>\n",
       "      <td>True</td>\n",
       "      <td>True</td>\n",
       "      <td>True</td>\n",
       "      <td>True</td>\n",
       "      <td>True</td>\n",
       "      <td>True</td>\n",
       "      <td>True</td>\n",
       "      <td>True</td>\n",
       "      <td>True</td>\n",
       "      <td>True</td>\n",
       "      <td>True</td>\n",
       "      <td>True</td>\n",
       "      <td>True</td>\n",
       "      <td>True</td>\n",
       "      <td>True</td>\n",
       "      <td>True</td>\n",
       "      <td>True</td>\n",
       "    </tr>\n",
       "    <tr>\n",
       "      <th>4</th>\n",
       "      <td>486611</td>\n",
       "      <td>2013-05-18</td>\n",
       "      <td>Virginia</td>\n",
       "      <td>Victoria</td>\n",
       "      <td>37.0177</td>\n",
       "      <td>-78.1562</td>\n",
       "      <td>True</td>\n",
       "      <td>True</td>\n",
       "      <td>4</td>\n",
       "      <td>True</td>\n",
       "      <td>0</td>\n",
       "      <td>1.0</td>\n",
       "      <td>Unknown</td>\n",
       "      <td>5</td>\n",
       "      <td>True</td>\n",
       "      <td>True</td>\n",
       "      <td>True</td>\n",
       "      <td>True</td>\n",
       "      <td>True</td>\n",
       "      <td>True</td>\n",
       "      <td>True</td>\n",
       "      <td>True</td>\n",
       "      <td>True</td>\n",
       "      <td>True</td>\n",
       "      <td>True</td>\n",
       "      <td>True</td>\n",
       "      <td>True</td>\n",
       "      <td>True</td>\n",
       "      <td>True</td>\n",
       "      <td>True</td>\n",
       "      <td>True</td>\n",
       "      <td>True</td>\n",
       "    </tr>\n",
       "  </tbody>\n",
       "</table>\n",
       "</div>"
      ],
      "text/plain": [
       "   incident_id        date        state city_or_county  latitude  longitude  \\\n",
       "0       481229  2013-03-07  Mississippi        Jackson   32.2649   -90.2141   \n",
       "1       485746  2013-04-22    Louisiana         Harvey   29.8736   -90.0568   \n",
       "2       485979  2013-04-28    Tennessee        Jackson   35.6141   -88.8150   \n",
       "3       873575  2013-05-18     New York        Jamaica   40.6730   -73.7881   \n",
       "4       486611  2013-05-18     Virginia       Victoria   37.0177   -78.1562   \n",
       "\n",
       "   no_injuries_or_deaths  injuries  n_injured  deaths  n_killed  \\\n",
       "0                   True      True          2    True         2   \n",
       "1                   True      True          5    True         0   \n",
       "2                   True      True          2    True         2   \n",
       "3                   True      True          0    True         1   \n",
       "4                   True      True          4    True         0   \n",
       "\n",
       "   n_guns_involved stolen_gun_involved  n_participants  all_adults  \\\n",
       "0              1.0             Unknown               4        True   \n",
       "1              3.0             Unknown               9        True   \n",
       "2              2.0             Unknown               6        True   \n",
       "3              1.0             Unknown               2        True   \n",
       "4              1.0             Unknown               5        True   \n",
       "\n",
       "   adult_participant  teen_participant  child_participant  \\\n",
       "0               True              True               True   \n",
       "1               True              True               True   \n",
       "2               True              True               True   \n",
       "3               True              True               True   \n",
       "4               True              True               True   \n",
       "\n",
       "   all_female_participants  all_male_participants  mixed_gender_participants  \\\n",
       "0                     True                   True                       True   \n",
       "1                     True                   True                       True   \n",
       "2                     True                   True                       True   \n",
       "3                     True                   True                       True   \n",
       "4                     True                   True                       True   \n",
       "\n",
       "   all_victims  all_suspects  suspects_and_victims  mass_shooting_flag  \\\n",
       "0         True          True                  True                True   \n",
       "1         True          True                  True                True   \n",
       "2         True          True                  True                True   \n",
       "3         True          True                  True                True   \n",
       "4         True          True                  True                True   \n",
       "\n",
       "   drive_by_flag  domestic_violence_flag  armed_robbery_flag  \\\n",
       "0           True                    True                True   \n",
       "1           True                    True                True   \n",
       "2           True                    True                True   \n",
       "3           True                    True                True   \n",
       "4           True                    True                True   \n",
       "\n",
       "   gang_involvement_flag  drug_involvement_flag  accidental_flag  \\\n",
       "0                   True                   True             True   \n",
       "1                   True                   True             True   \n",
       "2                   True                   True             True   \n",
       "3                   True                   True             True   \n",
       "4                   True                   True             True   \n",
       "\n",
       "   self_inflicted_flag  \n",
       "0                 True  \n",
       "1                 True  \n",
       "2                 True  \n",
       "3                 True  \n",
       "4                 True  "
      ]
     },
     "execution_count": 7,
     "metadata": {},
     "output_type": "execute_result"
    }
   ],
   "source": [
    "df = df.drop(columns = ['Unnamed: 0'])\n",
    "df.head()"
   ]
  },
  {
   "cell_type": "markdown",
   "id": "22de1121",
   "metadata": {},
   "source": [
    "# 02. Data Prep for Regression Analysis"
   ]
  },
  {
   "cell_type": "code",
   "execution_count": 8,
   "id": "1b3a536a",
   "metadata": {},
   "outputs": [
    {
     "data": {
      "image/png": "[encoded data removed]",
      "text/plain": [
       "<Figure size 432x288 with 1 Axes>"
      ]
     },
     "metadata": {
      "needs_background": "light"
     },
     "output_type": "display_data"
    }
   ],
   "source": [
    "# Scatterplot for chosen variables\n",
    "df.plot(x = 'n_participants', y = 'n_injured', style = 'o')\n",
    "plt.title('Number of People Injured vs Number of Participants')\n",
    "plt.xlabel('# of Participants')\n",
    "plt.ylabel('# of People Injured')\n",
    "plt.show()"
   ]
  },
  {
   "cell_type": "code",
   "execution_count": 9,
   "id": "c434049e",
   "metadata": {},
   "outputs": [],
   "source": [
    "# Reshape variables into arrays and put into separate objects\n",
    "x = df['n_participants'].values.reshape(-1, 1)\n",
    "y = df['n_injured'].values.reshape(-1, 1)"
   ]
  },
  {
   "cell_type": "code",
   "execution_count": 10,
   "id": "5fb60951",
   "metadata": {},
   "outputs": [
    {
     "data": {
      "text/plain": [
       "array([[4],\n",
       "       [9],\n",
       "       [6],\n",
       "       ...,\n",
       "       [0],\n",
       "       [2],\n",
       "       [0]])"
      ]
     },
     "execution_count": 10,
     "metadata": {},
     "output_type": "execute_result"
    }
   ],
   "source": [
    "x"
   ]
  },
  {
   "cell_type": "code",
   "execution_count": 11,
   "id": "e40fd6ba",
   "metadata": {},
   "outputs": [
    {
     "data": {
      "text/plain": [
       "array([[2],\n",
       "       [5],\n",
       "       [2],\n",
       "       ...,\n",
       "       [0],\n",
       "       [0],\n",
       "       [0]])"
      ]
     },
     "execution_count": 11,
     "metadata": {},
     "output_type": "execute_result"
    }
   ],
   "source": [
    "y"
   ]
  },
  {
   "cell_type": "code",
   "execution_count": 12,
   "id": "33618ce0",
   "metadata": {},
   "outputs": [],
   "source": [
    "# Split data into training and test sets\n",
    "x_train, x_test, y_train, y_test = train_test_split(x, y, test_size = 0.3, random_state = 0)"
   ]
  },
  {
   "cell_type": "markdown",
   "id": "3a79b5ed",
   "metadata": {},
   "source": [
    "# 03. Regression Analysis"
   ]
  },
  {
   "cell_type": "markdown",
   "id": "a2b04973",
   "metadata": {},
   "source": [
    "### Hypothesis: The higher the number of participants, the higher the number of people injured."
   ]
  },
  {
   "cell_type": "code",
   "execution_count": 13,
   "id": "30377a2a",
   "metadata": {},
   "outputs": [],
   "source": [
    "# Create regression object\n",
    "regression = LinearRegression()"
   ]
  },
  {
   "cell_type": "code",
   "execution_count": 14,
   "id": "1dd6f25a",
   "metadata": {},
   "outputs": [
    {
     "data": {
      "text/plain": [
       "LinearRegression()"
      ]
     },
     "execution_count": 14,
     "metadata": {},
     "output_type": "execute_result"
    }
   ],
   "source": [
    "# Fit regression object onto training set\n",
    "regression.fit(x_train, y_train)"
   ]
  },
  {
   "cell_type": "markdown",
   "id": "41733c83",
   "metadata": {},
   "source": [
    "## Training Set"
   ]
  },
  {
   "cell_type": "code",
   "execution_count": 15,
   "id": "1301a856",
   "metadata": {},
   "outputs": [],
   "source": [
    "# Predict values of y using x\n",
    "y_predicted_train = regression.predict(x_train)"
   ]
  },
  {
   "cell_type": "code",
   "execution_count": 16,
   "id": "2b01428b",
   "metadata": {},
   "outputs": [],
   "source": [
    "# Summary stats\n",
    "rmse = mean_squared_error(y_train, y_predicted_train)\n",
    "r2 = r2_score(y_train, y_predicted_train)"
   ]
  },
  {
   "cell_type": "code",
   "execution_count": 17,
   "id": "f7f0224e",
   "metadata": {},
   "outputs": [
    {
     "name": "stdout",
     "output_type": "stream",
     "text": [
      "Slope:  [[0.45547612]]\n",
      "Mean squared error:  0.5758262779369584\n",
      "R2 score:  0.5035996607389275\n"
     ]
    }
   ],
   "source": [
    "# Print summary stats\n",
    "print('Slope: ', regression.coef_)\n",
    "print('Mean squared error: ', rmse)\n",
    "print('R2 score: ', r2)"
   ]
  },
  {
   "cell_type": "code",
   "execution_count": 18,
   "id": "24506271",
   "metadata": {},
   "outputs": [
    {
     "data": {
      "image/png": "[encoded data removed]",
      "text/plain": [
       "<Figure size 432x288 with 1 Axes>"
      ]
     },
     "metadata": {
      "needs_background": "light"
     },
     "output_type": "display_data"
    }
   ],
   "source": [
    "# Visualizing training set results\n",
    "train = plt\n",
    "train.scatter(x_train, y_train, color = 'green', s = 15)\n",
    "train.plot(x_train, y_predicted_train, color = 'red', linewidth = 2)\n",
    "train.title('Number of People Injured vs Number of Participants (Train Set)')\n",
    "train.xlabel('# of Participants')\n",
    "train.ylabel('# of People Injured')\n",
    "train.show()"
   ]
  },
  {
   "cell_type": "markdown",
   "id": "49eb92d7",
   "metadata": {},
   "source": [
    "## Test Set"
   ]
  },
  {
   "cell_type": "code",
   "execution_count": 19,
   "id": "be8b4536",
   "metadata": {},
   "outputs": [],
   "source": [
    "# Predict values of y using x\n",
    "y_predicted = regression.predict(x_test)"
   ]
  },
  {
   "cell_type": "code",
   "execution_count": 20,
   "id": "daa6f041",
   "metadata": {},
   "outputs": [
    {
     "data": {
      "image/png": "[encoded data removed]",
      "text/plain": [
       "<Figure size 432x288 with 1 Axes>"
      ]
     },
     "metadata": {
      "needs_background": "light"
     },
     "output_type": "display_data"
    }
   ],
   "source": [
    "# Create plot displaying regression line from model on test set\n",
    "test = plt\n",
    "test.scatter(x_test, y_test, color = 'gray', s = 15)\n",
    "test.plot(x_test, y_predicted, color = 'red', linewidth = 2)\n",
    "test.title('Number of People Injured vs Number of Participants (Test Set)')\n",
    "test.xlabel('# of Participants')\n",
    "test.ylabel('# of People Injured')\n",
    "test.show()"
   ]
  },
  {
   "cell_type": "code",
   "execution_count": 21,
   "id": "62864490",
   "metadata": {},
   "outputs": [],
   "source": [
    "# Objects for model summary stats\n",
    "rmse = mean_squared_error(y_test, y_predicted)\n",
    "r2 = r2_score(y_test, y_predicted)"
   ]
  },
  {
   "cell_type": "code",
   "execution_count": 22,
   "id": "7ce930f1",
   "metadata": {},
   "outputs": [
    {
     "name": "stdout",
     "output_type": "stream",
     "text": [
      "Slope:  [[0.45547612]]\n",
      "Mean Squared Error:  0.5265010433788146\n",
      "R2 Score:  0.2596316677693439\n"
     ]
    }
   ],
   "source": [
    "# Print model summary stats\n",
    "print('Slope: ', regression.coef_)\n",
    "print('Mean Squared Error: ', rmse)\n",
    "print('R2 Score: ', r2)"
   ]
  },
  {
   "cell_type": "code",
   "execution_count": 23,
   "id": "aa0d03ae",
   "metadata": {},
   "outputs": [],
   "source": [
    "pd.set_option('display.max_rows', None)"
   ]
  },
  {
   "cell_type": "code",
   "execution_count": 24,
   "id": "3f69eade",
   "metadata": {},
   "outputs": [
    {
     "data": {
      "text/plain": [
       "array([[0.0226125 ],\n",
       "       [0.0226125 ],\n",
       "       [0.47808862],\n",
       "       ...,\n",
       "       [0.0226125 ],\n",
       "       [0.47808862],\n",
       "       [0.0226125 ]])"
      ]
     },
     "execution_count": 24,
     "metadata": {},
     "output_type": "execute_result"
    }
   ],
   "source": [
    "y_predicted"
   ]
  },
  {
   "cell_type": "code",
   "execution_count": 25,
   "id": "e65836b5",
   "metadata": {},
   "outputs": [
    {
     "data": {
      "text/html": [
       "<div>\n",
       "<style scoped>\n",
       "    .dataframe tbody tr th:only-of-type {\n",
       "        vertical-align: middle;\n",
       "    }\n",
       "\n",
       "    .dataframe tbody tr th {\n",
       "        vertical-align: top;\n",
       "    }\n",
       "\n",
       "    .dataframe thead th {\n",
       "        text-align: right;\n",
       "    }\n",
       "</style>\n",
       "<table border=\"1\" class=\"dataframe\">\n",
       "  <thead>\n",
       "    <tr style=\"text-align: right;\">\n",
       "      <th></th>\n",
       "      <th>Actual</th>\n",
       "      <th>Predicted</th>\n",
       "    </tr>\n",
       "  </thead>\n",
       "  <tbody>\n",
       "    <tr>\n",
       "      <th>1397</th>\n",
       "      <td>1</td>\n",
       "      <td>0.478089</td>\n",
       "    </tr>\n",
       "    <tr>\n",
       "      <th>1398</th>\n",
       "      <td>4</td>\n",
       "      <td>2.299993</td>\n",
       "    </tr>\n",
       "    <tr>\n",
       "      <th>1399</th>\n",
       "      <td>3</td>\n",
       "      <td>1.844517</td>\n",
       "    </tr>\n",
       "    <tr>\n",
       "      <th>1400</th>\n",
       "      <td>0</td>\n",
       "      <td>0.478089</td>\n",
       "    </tr>\n",
       "    <tr>\n",
       "      <th>1401</th>\n",
       "      <td>0</td>\n",
       "      <td>0.478089</td>\n",
       "    </tr>\n",
       "    <tr>\n",
       "      <th>1402</th>\n",
       "      <td>1</td>\n",
       "      <td>0.022613</td>\n",
       "    </tr>\n",
       "    <tr>\n",
       "      <th>1403</th>\n",
       "      <td>0</td>\n",
       "      <td>0.933565</td>\n",
       "    </tr>\n",
       "    <tr>\n",
       "      <th>1404</th>\n",
       "      <td>3</td>\n",
       "      <td>1.389041</td>\n",
       "    </tr>\n",
       "    <tr>\n",
       "      <th>1405</th>\n",
       "      <td>2</td>\n",
       "      <td>0.933565</td>\n",
       "    </tr>\n",
       "    <tr>\n",
       "      <th>1406</th>\n",
       "      <td>1</td>\n",
       "      <td>0.933565</td>\n",
       "    </tr>\n",
       "    <tr>\n",
       "      <th>1407</th>\n",
       "      <td>2</td>\n",
       "      <td>0.478089</td>\n",
       "    </tr>\n",
       "    <tr>\n",
       "      <th>1408</th>\n",
       "      <td>0</td>\n",
       "      <td>0.478089</td>\n",
       "    </tr>\n",
       "    <tr>\n",
       "      <th>1409</th>\n",
       "      <td>0</td>\n",
       "      <td>0.022613</td>\n",
       "    </tr>\n",
       "    <tr>\n",
       "      <th>1410</th>\n",
       "      <td>1</td>\n",
       "      <td>0.933565</td>\n",
       "    </tr>\n",
       "    <tr>\n",
       "      <th>1411</th>\n",
       "      <td>2</td>\n",
       "      <td>1.389041</td>\n",
       "    </tr>\n",
       "    <tr>\n",
       "      <th>1412</th>\n",
       "      <td>0</td>\n",
       "      <td>1.389041</td>\n",
       "    </tr>\n",
       "    <tr>\n",
       "      <th>1413</th>\n",
       "      <td>1</td>\n",
       "      <td>0.478089</td>\n",
       "    </tr>\n",
       "    <tr>\n",
       "      <th>1414</th>\n",
       "      <td>0</td>\n",
       "      <td>0.022613</td>\n",
       "    </tr>\n",
       "    <tr>\n",
       "      <th>1415</th>\n",
       "      <td>2</td>\n",
       "      <td>0.478089</td>\n",
       "    </tr>\n",
       "    <tr>\n",
       "      <th>1416</th>\n",
       "      <td>0</td>\n",
       "      <td>0.022613</td>\n",
       "    </tr>\n",
       "  </tbody>\n",
       "</table>\n",
       "</div>"
      ],
      "text/plain": [
       "      Actual  Predicted\n",
       "1397       1   0.478089\n",
       "1398       4   2.299993\n",
       "1399       3   1.844517\n",
       "1400       0   0.478089\n",
       "1401       0   0.478089\n",
       "1402       1   0.022613\n",
       "1403       0   0.933565\n",
       "1404       3   1.389041\n",
       "1405       2   0.933565\n",
       "1406       1   0.933565\n",
       "1407       2   0.478089\n",
       "1408       0   0.478089\n",
       "1409       0   0.022613\n",
       "1410       1   0.933565\n",
       "1411       2   1.389041\n",
       "1412       0   1.389041\n",
       "1413       1   0.478089\n",
       "1414       0   0.022613\n",
       "1415       2   0.478089\n",
       "1416       0   0.022613"
      ]
     },
     "execution_count": 25,
     "metadata": {},
     "output_type": "execute_result"
    }
   ],
   "source": [
    "# Df comparing actual vs predicted values of y\n",
    "df_compare = pd.DataFrame({'Actual': y_test.flatten(), 'Predicted': y_predicted.flatten()})\n",
    "df_compare.tail(20)"
   ]
  },
  {
   "cell_type": "markdown",
   "id": "06d6241c",
   "metadata": {},
   "source": [
    "## Results"
   ]
  },
  {
   "cell_type": "markdown",
   "id": "5fc7ea6e",
   "metadata": {},
   "source": [
    "#### The model does not seem to perform that well for predicting values, contradicting the hypothesis. This is most likely due to the concentration of data points with low x (n_participants) and varied y (n_injured) values. This is reflected in the low r2 scores and relatively high mean squared error values for the training and test sets."
   ]
  },
  {
   "cell_type": "markdown",
   "id": "4997dacd",
   "metadata": {},
   "source": [
    "# 04. Export Scatterplots"
   ]
  },
  {
   "cell_type": "code",
   "execution_count": 26,
   "id": "fbbfd1c4",
   "metadata": {},
   "outputs": [
    {
     "data": {
      "text/plain": [
       "<Figure size 432x288 with 0 Axes>"
      ]
     },
     "metadata": {},
     "output_type": "display_data"
    }
   ],
   "source": [
    "test.savefig(os.path.join(path, '04 Analysis', 'supervised_ml_test.png'))"
   ]
  },
  {
   "cell_type": "code",
   "execution_count": 27,
   "id": "2d1b6a02",
   "metadata": {},
   "outputs": [
    {
     "data": {
      "text/plain": [
       "<Figure size 432x288 with 0 Axes>"
      ]
     },
     "metadata": {},
     "output_type": "display_data"
    }
   ],
   "source": [
    "train.savefig(os.path.join(path, '04 Analysis', 'supervised_ml_train.png'))"
   ]
  }
 ],
 "metadata": {
  "kernelspec": {
   "display_name": "Python 3 (ipykernel)",
   "language": "python",
   "name": "python3"
  },
  "language_info": {
   "codemirror_mode": {
    "name": "ipython",
    "version": 3
   },
   "file_extension": ".py",
   "mimetype": "text/x-python",
   "name": "python",
   "nbconvert_exporter": "python",
   "pygments_lexer": "ipython3",
   "version": "3.9.12"
  }
 },
 "nbformat": 4,
 "nbformat_minor": 5
}
